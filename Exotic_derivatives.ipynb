{
 "cells": [
  {
   "cell_type": "code",
   "execution_count": 4,
   "metadata": {},
   "outputs": [],
   "source": [
    "import numpy as np\n",
    "import matplotlib.pyplot as plt\n",
    "import scipy.stats as st\n",
    "import enum "
   ]
  },
  {
   "cell_type": "markdown",
   "metadata": {},
   "source": [
    "## Exotic Derivatives"
   ]
  },
  {
   "cell_type": "markdown",
   "metadata": {},
   "source": [
    "Pricing approach:\n",
    "- Start with some financial products\n",
    "- Model the risk factors involved\n",
    "- Calibrate the model to market data\n",
    "- Model product price correspondingly\n",
    "- Price the product of interests \n",
    "- Set up a hedge to remove the risk"
   ]
  },
  {
   "cell_type": "markdown",
   "metadata": {},
   "source": [
    "## Binaries and digitals\n",
    "Binary options have a discontinuos payoff at expiry. \n",
    "An example for a binary call is that the contract pays $Q$ at T, if the asset price is then greater than the exercise price K. \n",
    "The final condition is $V(S,T) = \\mathcal{H}(S-K)$, where $\\mathcal{H}$(.) is the Heaviside function\n",
    "$$ V(S,T) = Q\\mathbb{1}_{S\\geq  K}"
   ]
  },
  {
   "cell_type": "markdown",
   "metadata": {},
   "source": [
    "## Compound option:\n",
    "Call on a call: right to buy a call with maturity T and strike K' at time $T_0$ for the price $K_0$:\n",
    "$$ V^{CC}(S,T_0,K_0,K,T) = max[V^C(S,K,T) - K_0,0]"
   ]
  },
  {
   "cell_type": "markdown",
   "metadata": {},
   "source": [
    "## Chooser option\n",
    "Gives the holder the right to choose wheter the underlying option at time $T_0$ is a Call or a Put with the same strike $K$ at maturity $T$. The payoff of a chooser option is:\n",
    "$$ V^{CH}(S,K,T_0,T)=max[V^C(S,K,T), V^P(S,K,T)]$$"
   ]
  },
  {
   "cell_type": "code",
   "execution_count": 5,
   "metadata": {},
   "outputs": [
    {
     "name": "stdout",
     "output_type": "stream",
     "text": [
      "Value of the contract at t0 =0.48930385567059775\n",
      "Value of the barrier contract at t0 =0.14917196514936862\n"
     ]
    },
    {
     "data": {
      "image/png": "[encoded data removed]",
      "text/plain": [
       "<Figure size 640x480 with 1 Axes>"
      ]
     },
     "metadata": {},
     "output_type": "display_data"
    }
   ],
   "source": [
    "#%%\n",
    "\n",
    "\n",
    "def DigitalPayoffValuation(S,T,r,payoff):\n",
    "    # S is a vector of Monte Carlo samples at T\n",
    "    return np.exp(-r*T) * np.mean(payoff(S))\n",
    "\n",
    "def GeneratePathsGBMEuler(NoOfPaths,NoOfSteps,T,r,sigma,S_0):    \n",
    "    Z = np.random.normal(0.0,1.0,[NoOfPaths,NoOfSteps])\n",
    "    W = np.zeros([NoOfPaths, NoOfSteps+1])\n",
    "   \n",
    "    # Euler Approximation\n",
    "    S1 = np.zeros([NoOfPaths, NoOfSteps+1])\n",
    "    S1[:,0] =S_0\n",
    "    \n",
    "    time = np.zeros([NoOfSteps+1])\n",
    "        \n",
    "    dt = T / float(NoOfSteps)\n",
    "    for i in range(0,NoOfSteps):\n",
    "        # making sure that samples from normal have mean 0 and variance 1\n",
    "        if NoOfPaths > 1:\n",
    "            Z[:,i] = (Z[:,i] - np.mean(Z[:,i])) / np.std(Z[:,i])\n",
    "        W[:,i+1] = W[:,i] + np.power(dt, 0.5)*Z[:,i]\n",
    "        \n",
    "        S1[:,i+1] = S1[:,i] + r * S1[:,i]* dt + sigma * S1[:,i] * (W[:,i+1] - W[:,i])\n",
    "        time[i+1] = time[i] +dt\n",
    "        \n",
    "    # Retun S1 and S2\n",
    "    paths = {\"time\":time,\"S\":S1}\n",
    "    return paths\n",
    "\n",
    "def UpAndOutBarrier(S,T,r,payoff,Su):\n",
    "        \n",
    "    # handling of a barrier\n",
    "    n1,n2 = S.shape\n",
    "    barrier= np.zeros([n1,n2]) + Su\n",
    "    \n",
    "    hitM = S > barrier\n",
    "    hitVec = np.sum(hitM, 1)\n",
    "    hitVec = (hitVec == 0.0).astype(int)\n",
    "    \n",
    "    V_0 = np.exp(-r*T) * np.mean(payoff(S[:,-1]*hitVec))\n",
    "\n",
    "    \n",
    "    return V_0\n",
    "\n",
    "def mainCalculation():\n",
    "    NoOfPaths = 10000\n",
    "    NoOfSteps = 250\n",
    "   \n",
    "    S0    = 100.0\n",
    "    r     = 0.05\n",
    "    T    = 5\n",
    "    sigma = 0.2\n",
    "    Su = 150\n",
    "    \n",
    "    paths = GeneratePathsGBMEuler(NoOfPaths,NoOfSteps,T,r,sigma,S0)\n",
    "    S_paths= paths[\"S\"]\n",
    "    S_T = S_paths[:,-1]\n",
    "    \n",
    "    # Payoff setting    \n",
    "    K  = 100.0\n",
    "    K2 = 101.0\n",
    "    \n",
    "    # Payoff specification\n",
    "    payoff = lambda S: np.maximum(S-K,0.0) - np.maximum(S-K2,0)\n",
    "    \n",
    "    #Plot\n",
    "    S_T_grid = np.linspace(50,S0*1.5,200)\n",
    "    \n",
    "    plt.figure(1)\n",
    "    plt.plot(S_T_grid,payoff(S_T_grid))\n",
    "    \n",
    "    # Valuation\n",
    "    val_t0 = DigitalPayoffValuation(S_T,T,r,payoff)\n",
    "    print(\"Value of the contract at t0 ={0}\".format(val_t0))\n",
    "    \n",
    "    # barrier pricing\n",
    "    barrier_price = UpAndOutBarrier(S_paths,T,r,payoff,Su)\n",
    "\n",
    "    print(\"Value of the barrier contract at t0 ={0}\".format(barrier_price))\n",
    "           \n",
    "        \n",
    "mainCalculation()"
   ]
  },
  {
   "cell_type": "markdown",
   "metadata": {},
   "source": [
    "## Barrier Options\n",
    "Barrier options are options that either come alive or die when predetermined trigger points (barriers) are reached.\n",
    "- Up-and_out Call: Option is knocked out if S hits a certain barrier $S_u$\n",
    "$$ V(S,T) = max(S-K,0) \\text{ if } S\\geq S_u$$"
   ]
  },
  {
   "cell_type": "markdown",
   "metadata": {},
   "source": [
    "## Lookback options:\n",
    "Path dependent options whose payoffs depend on the max or the min of the asset during a certain period (lookback period $[T_0,T]$\n",
    "- Payoff European fixed strike lookback call: $(max_{[T_0,T]}(S(t) - K)^+$\n",
    "- Payoff European fixed strike lookback put: $ (K - min_{[T_0,T]}(S(t)))^+$"
   ]
  },
  {
   "cell_type": "markdown",
   "metadata": {},
   "source": [
    "## Type of Barriers\n",
    "- Out options only payoffs if a level is not reached. If the barrier is reached the options is said to have knocked out\n",
    "- The in option pays off as long as a level is reached before expiry. If the barrier is reached thenthe options is said to have knocked in. \n",
    "- If the barrier is above the initial asset value, we have an up option\n",
    "- if the barrier is below the initial value, we have a down option\n",
    "- Barrier can be time dependent"
   ]
  },
  {
   "cell_type": "markdown",
   "metadata": {},
   "source": [
    "## PDE For Barrier Options\n",
    "- The PDE for barrier options satisfy the Black-Scholes equation on a special domain, with special boundary conditions.\n",
    "- The details of the barrier feature come in through the specification of boundary conditions\n",
    "- If the asset reaches the barrier $S_u$ in an \"out\" barrier option then the contract becomes worthless:\n",
    "$$ V(S_u,t)=0 \\text{ for } t <T$$\n",
    "- if we have a down-and-out option with a barrier $S_d$ we solve for $ S_d < S > \\inf$ with \n",
    "$$ V(S_d,t)=0 \\text{ for } t <T$$"
   ]
  },
  {
   "cell_type": "markdown",
   "metadata": {},
   "source": [
    "## In barriers"
   ]
  },
  {
   "cell_type": "markdown",
   "metadata": {},
   "source": [
    "An \"in\" option only has payoff if the barrier is  triggered. If the barrier is not triggered we have \n",
    "$$ V(S,T)=0$$\n",
    "The value in the option is in the potential to hit the barrier. If the option is an up-and-in contract then on the upper barrier the contract must have the same value of a vanilla option. \n",
    "$$ V(S_u,t) = \\text{ value of standard option contract, function of t }$$ \n",
    "So,\n",
    "$$ V(S_u,t) = V_c(S_u,t) \\text{ for } t<T$$\n",
    "Moreover, one can show that \"in\" + \"out\" = European"
   ]
  },
  {
   "cell_type": "code",
   "execution_count": 6,
   "metadata": {},
   "outputs": [
    {
     "name": "stdout",
     "output_type": "stream",
     "text": [
      "Value of the contract at t0 =29.495518018678546\n",
      "Value of the barrier contract at t0 =2.7266203294527416\n"
     ]
    },
    {
     "data": {
      "image/png": "[encoded data removed]",
      "text/plain": [
       "<Figure size 640x480 with 1 Axes>"
      ]
     },
     "metadata": {},
     "output_type": "display_data"
    }
   ],
   "source": [
    "\n",
    "import numpy as np\n",
    "import matplotlib.pyplot as plt\n",
    "import scipy.stats as st\n",
    "import enum \n",
    "\n",
    "def DigitalPayoffValuation(S,T,r,payoff):\n",
    "    # S is a vector of Monte Carlo samples at T\n",
    "    return np.exp(-r*T) * np.mean(payoff(S))\n",
    "\n",
    "def GeneratePathsGBMEuler(NoOfPaths,NoOfSteps,T,r,sigma,S_0):    \n",
    "    Z = np.random.normal(0.0,1.0,[NoOfPaths,NoOfSteps])\n",
    "    W = np.zeros([NoOfPaths, NoOfSteps+1])\n",
    "   \n",
    "    # Euler Approximation\n",
    "    S1 = np.zeros([NoOfPaths, NoOfSteps+1])\n",
    "    S1[:,0] =S_0\n",
    "    \n",
    "    time = np.zeros([NoOfSteps+1])\n",
    "        \n",
    "    dt = T / float(NoOfSteps)\n",
    "    for i in range(0,NoOfSteps):\n",
    "        # making sure that samples from normal have mean 0 and variance 1\n",
    "        if NoOfPaths > 1:\n",
    "            Z[:,i] = (Z[:,i] - np.mean(Z[:,i])) / np.std(Z[:,i])\n",
    "        W[:,i+1] = W[:,i] + np.power(dt, 0.5)*Z[:,i]\n",
    "        \n",
    "        S1[:,i+1] = S1[:,i] + r * S1[:,i]* dt + sigma * S1[:,i] * (W[:,i+1] - W[:,i])\n",
    "        time[i+1] = time[i] +dt\n",
    "        \n",
    "    # Retun S1 and S2\n",
    "    paths = {\"time\":time,\"S\":S1}\n",
    "    return paths\n",
    "\n",
    "def UpAndOutBarrier(S,T,r,payoff,Su):\n",
    "        \n",
    "    # handling of a barrier\n",
    "    n1,n2 = S.shape\n",
    "    barrier= np.zeros([n1,n2]) + Su\n",
    "    \n",
    "    hitM = S > barrier\n",
    "    hitVec = np.sum(hitM, 1)\n",
    "    hitVec = (hitVec == 0.0).astype(int)\n",
    "    \n",
    "    V_0 = np.exp(-r*T) * np.mean(payoff(S[:,-1]*hitVec))\n",
    "\n",
    "    \n",
    "    return V_0\n",
    "\n",
    "def mainCalculation():\n",
    "    NoOfPaths = 10000\n",
    "    NoOfSteps = 250\n",
    "   \n",
    "    S0    = 100.0\n",
    "    r     = 0.05\n",
    "    T    = 5\n",
    "    sigma = 0.2\n",
    "    Su = 150\n",
    "    \n",
    "    paths = GeneratePathsGBMEuler(NoOfPaths,NoOfSteps,T,r,sigma,S0)\n",
    "    S_paths= paths[\"S\"]\n",
    "    S_T = S_paths[:,-1]\n",
    "    \n",
    "    # Payoff setting    \n",
    "    K  = 100.0\n",
    "    K2 = 140.0\n",
    "    \n",
    "    # Payoff specification\n",
    "    payoff = lambda S: np.maximum(S-K,0.0)# - np.maximum(S-K2,0)\n",
    "    \n",
    "    #Plot\n",
    "    S_T_grid = np.linspace(50,S0*1.5,200)\n",
    "    \n",
    "    plt.figure(1)\n",
    "    plt.plot(S_T_grid,payoff(S_T_grid))\n",
    "    \n",
    "    # Valuation\n",
    "    val_t0 = DigitalPayoffValuation(S_T,T,r,payoff)\n",
    "    print(\"Value of the contract at t0 ={0}\".format(val_t0))\n",
    "    \n",
    "    # barrier pricing\n",
    "    barrier_price = UpAndOutBarrier(S_paths,T,r,payoff,Su)\n",
    "\n",
    "    print(\"Value of the barrier contract at t0 ={0}\".format(barrier_price))\n",
    "           \n",
    "        \n",
    "mainCalculation()"
   ]
  },
  {
   "cell_type": "markdown",
   "metadata": {},
   "source": [
    "## Hedging barrier options"
   ]
  },
  {
   "cell_type": "markdown",
   "metadata": {},
   "source": [
    "- Barrier options have discontinuos delta at the barrier. For a knock out, the option value is continuos, decreasing approximately continuosly towards the barrier, then being zero beyond the barrier. \n",
    "- A discontinuity in the delta means that the gamma is instantaneously infinite at the barrier. Delta hedging through the barrier is virtually impossible and costly. \n",
    "- There have been a number of suggestions made for ways to statically hedge barrier options. These methods try to mimic as closely as possible the value of a barrier option with vanilla calls and puts or with binary options"
   ]
  },
  {
   "cell_type": "markdown",
   "metadata": {},
   "source": [
    "## Asian Options\n",
    "The option payoff dependes on the average of the underlying:\n",
    "- $V(T) = max(A(T) - K,0)$: fixed strike call\n",
    "- $V(T) = max(K - A(T),0)$: fixed strike put\n",
    "- $V(T) = max(S(T) - A(T),0)$: floating strike call\n",
    "- $V(T) = max(A(T) - S(T),0)$: floating strike put\n",
    "Where $A(T)$ represents an average of stock S(t) computed over certain period of time"
   ]
  },
  {
   "cell_type": "markdown",
   "metadata": {},
   "source": [
    "## Types of average\n",
    "- Arithmetic average:\n",
    "$$ \\frac{1}{N}\\sum_i^N S(t_i)$$\n",
    "- Geometric average:\n",
    "$$ A_n = \\prod_i^N S^{\\frac{1}{n}}(t_i)$$\n",
    "\n",
    "- Continuos average:\n",
    "$$ A(t) = \\frac{1}{t} \\int_{0}^{t} S(u)du $$"
   ]
  },
  {
   "cell_type": "markdown",
   "metadata": {},
   "source": [
    "Final conditions for an arithmetic-average floating strike call:\n",
    "$$ V(S,T) = max\\bigg(S -\\frac{1}{T} \\int_0^T S(u)du, 0\\bigg) $$\n",
    "for an arithmetic-average fixed strike call:\n",
    "$$ V(S,T) = max(\\frac{1}{T}\\int_0^T S(u)du - K , 0\\bigg)$$"
   ]
  },
  {
   "cell_type": "markdown",
   "metadata": {},
   "source": [
    "with a new variable $I(t) \\coloneqq \\int_0^T S(u)du$ one finds a similar Black-Scholes equation for Asian options:\n",
    "$$\\frac{\\partial V}{\\partial t} + \\frac{1}{2} \\sigma^2 S^2\\frac{\\partial^2 V}{\\partial ^2 S} + rs \\frac{\\partial V}{\\partial S} + S \\frac{\\partial V}{\\partial I} - rV=0$$"
   ]
  },
  {
   "cell_type": "markdown",
   "metadata": {},
   "source": [
    "## Path dependency and the Integral\n",
    "- the stock process follows a GBM\n",
    "$$ dS(t) =rS(t)dt + \\sigma S(t)dW^{\\mathbb{Q}}(t)$$\n",
    "- Imagine a contract that pays at maturity T an amount that is a function of the path taken by the asset between 0 and maturity.\n",
    "- Suppose that this path-dependent quantity can be represented by an integral of some function of the asset over the period $0$ to $T$:\n",
    "$$ I(T) = \\int_0^T f(S,u) du$$\n",
    "Most path-dependent quantities in exotic derivate contracts can be written in this form with a suitable choice of $f(S,t)$"
   ]
  },
  {
   "cell_type": "markdown",
   "metadata": {},
   "source": [
    "Set up a portfolio containing one of the path-dependent options and short a  number $\\Delta$ of the underlying asset:\n",
    "$$ \\Pi = V(S,I,t) - \\Delta \\cdot S $$\n",
    "the change in the value of this portfolio is given by:\n",
    "$$ d\\Pi = \\bigg( \\frac{\\partial V}{\\partial t} + \\frac{1}{2}\\sigma^2S^2 \\frac{\\partial^2 V}{\\partial S^2}\\bigg) + f(S,t)\\frac{\\partial V}{\\partial I} + \\bigg(\\frac{\\partial V}{\\partial S} - \\Delta\\bigg)dS$$"
   ]
  },
  {
   "cell_type": "markdown",
   "metadata": {},
   "source": [
    "Choosing $\\Delta = \\frac{\\partial V}{\\partial S}$ to hedge the risk we find:\n",
    "$$ d\\Pi =  \\bigg( \\frac{\\partial V}{\\partial t} + \\frac{1}{2}\\sigma^2S^2 \\frac{\\partial^2 V}{\\partial S^2} + f(S,t)\\frac{\\partial V}{\\partial I}\\bigg)dt $$\n",
    "$$ d\\Pi = r\\Pi dt $$"
   ]
  },
  {
   "cell_type": "markdown",
   "metadata": {},
   "source": [
    "leading to the PDE:\n",
    "$$  \\frac{\\partial V}{\\partial t} + \\frac{1}{2}\\sigma^2S^2 \\frac{\\partial^2 V}{\\partial S^2} + f(S,t)\\frac{\\partial V}{\\partial I} + rS \\frac{\\partial V}{\\partial S} - rV =0 $$\n"
   ]
  },
  {
   "cell_type": "markdown",
   "metadata": {},
   "source": [
    "Subject to the terminal condition:\n",
    "$$V(S,I,T) = payoff $$"
   ]
  },
  {
   "cell_type": "code",
   "execution_count": 7,
   "metadata": {},
   "outputs": [
    {
     "name": "stdout",
     "output_type": "stream",
     "text": [
      "Value of the contract at t0 =28.967509179090808\n",
      "Value of the Asian option at t0 =14.778907839025736\n",
      "variance of S(T) = 3581.7248430269537\n",
      "variance of A(T) = 916.135131411\n"
     ]
    }
   ],
   "source": [
    "def PayoffValuation(S,T,r,payoff):\n",
    "    # S is a vector of Monte Carlo samples at T\n",
    "    return np.exp(-r*T) * np.mean(payoff(S))\n",
    "\n",
    "def GeneratePathsGBMEuler(NoOfPaths,NoOfSteps,T,r,sigma,S_0):    \n",
    "    Z = np.random.normal(0.0,1.0,[NoOfPaths,NoOfSteps])\n",
    "    W = np.zeros([NoOfPaths, NoOfSteps+1])\n",
    "   \n",
    "    # Euler Approximation\n",
    "    S1 = np.zeros([NoOfPaths, NoOfSteps+1])\n",
    "    S1[:,0] =S_0\n",
    "    \n",
    "    time = np.zeros([NoOfSteps+1])\n",
    "        \n",
    "    dt = T / float(NoOfSteps)\n",
    "    for i in range(0,NoOfSteps):\n",
    "        # making sure that samples from normal have mean 0 and variance 1\n",
    "        if NoOfPaths > 1:\n",
    "            Z[:,i] = (Z[:,i] - np.mean(Z[:,i])) / np.std(Z[:,i])\n",
    "        W[:,i+1] = W[:,i] + np.power(dt, 0.5)*Z[:,i]\n",
    "        \n",
    "        S1[:,i+1] = S1[:,i] + r * S1[:,i]* dt + sigma * S1[:,i] * (W[:,i+1] - W[:,i])\n",
    "        time[i+1] = time[i] +dt\n",
    "        \n",
    "    # Retun S1 and S2\n",
    "    paths = {\"time\":time,\"S\":S1}\n",
    "    return paths\n",
    "\n",
    "\n",
    "def mainCalculation():\n",
    "    NoOfPaths = 5000\n",
    "    NoOfSteps = 250\n",
    "   \n",
    "    S0    = 100.0\n",
    "    r     = 0.05\n",
    "    T    = 5\n",
    "    sigma = 0.2\n",
    "     \n",
    "    paths = GeneratePathsGBMEuler(NoOfPaths,NoOfSteps,T,r,sigma,S0)\n",
    "    S_paths= paths[\"S\"]\n",
    "    S_T = S_paths[:,-1]\n",
    "    \n",
    "    # Payoff setting    \n",
    "    K  = 100.0\n",
    "    \n",
    "    # Payoff specification\n",
    "    payoff = lambda S: np.maximum(S-K,0.0)  \n",
    "        \n",
    "    # Valuation\n",
    "    val_t0 = PayoffValuation(S_T,T,r,payoff)\n",
    "    print(\"Value of the contract at t0 ={0}\".format(val_t0))\n",
    "    \n",
    "    \n",
    "    A_T= np.mean(S_paths,1)\n",
    "    valAsian_t0 = PayoffValuation(A_T,T,r,payoff)\n",
    "    print(\"Value of the Asian option at t0 ={0}\".format(valAsian_t0))\n",
    "    \n",
    "    print('variance of S(T) = {0}'.format(np.var(S_T)))\n",
    "    print('variance of A(T) = {0}'.format(np.var(A_T)))\n",
    "        \n",
    "mainCalculation()"
   ]
  }
 ],
 "metadata": {
  "kernelspec": {
   "display_name": "base",
   "language": "python",
   "name": "python3"
  },
  "language_info": {
   "codemirror_mode": {
    "name": "ipython",
    "version": 3
   },
   "file_extension": ".py",
   "mimetype": "text/x-python",
   "name": "python",
   "nbconvert_exporter": "python",
   "pygments_lexer": "ipython3",
   "version": "3.11.5"
  }
 },
 "nbformat": 4,
 "nbformat_minor": 2
}
