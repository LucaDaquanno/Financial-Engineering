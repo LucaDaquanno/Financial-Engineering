{
 "cells": [
  {
   "cell_type": "code",
   "execution_count": 9,
   "metadata": {},
   "outputs": [],
   "source": [
    "import numpy as np\n",
    "import matplotlib.pyplot as plt\n",
    "import scipy.stats as st\n",
    "import scipy.fft as fft\n",
    "import scipy.interpolate as interpolate"
   ]
  },
  {
   "cell_type": "markdown",
   "metadata": {},
   "source": [
    "## FFT - Fast Fourier Transformation"
   ]
  },
  {
   "cell_type": "markdown",
   "metadata": {},
   "source": [
    "$$f(x) = \\frac{1}{2\\pi} \\int_{ - \\infty}^{+ \\infty} e^{-izx} \\phi (z)dz$$\n",
    "if we want to calculate the density for many $x$ we need to compute an integral, this can be very computational expensive if we need it for many $x$.\n",
    "Let us formulate the pricing problem:\n",
    "$$ \\mathbb{E}\\bigg(\\frac{V(T)}{M(T)}\\bigg) = \\int_{\\mathbb{R}} e^{-rT} \\cdot \\Pi(T) \\cdot f_X(x) dx$$\n",
    "In this case we need to discretize the integral and for each $X$ in our domain we need to evaluate  the intefral above.\n",
    "FFT can help to get a much more faster implementation.\n"
   ]
  },
  {
   "cell_type": "markdown",
   "metadata": {},
   "source": [
    "## Inversion Lemma"
   ]
  },
  {
   "cell_type": "markdown",
   "metadata": {},
   "source": [
    "Let $\\phi(z)$ be a characteristic function and $f(x)$ be a probability density function of some continuos variable X. Then we have:\n",
    "$$ f(x) = \\frac{1}{\\pi} \\mathcal{R}\\bigg(\\int_0^{ + \\infty} e^{-izx} \\phi(z) dz\\bigg)$$"
   ]
  },
  {
   "cell_type": "markdown",
   "metadata": {},
   "source": [
    "## Proof:\n",
    "from Fourier Inverse:\n",
    "$$ f(x) = \\frac{1}{2\\pi} \\int_{ - \\infty}^{+ \\infty} e^{-izx} \\phi (z)dz$$\n",
    "$$f(x) = \\frac{1}{2\\pi}\\bigg(  \\int_{ - \\infty}^{0} e^{-izx} \\phi (z)dz +  \\int_{0}^{ \\infty} e^{-izx} \\phi (z)dz\\bigg) $$\n"
   ]
  },
  {
   "cell_type": "markdown",
   "metadata": {},
   "source": [
    "where the first integral on the RHS can be written as:\n",
    "$$\\int_{ - \\infty}^{0} e^{-izx} \\phi (z)dz = \\int_{0}^{\\infty} e^{ivx} \\phi (-v)dv$$\n",
    "By taking the conjugate of the first integral and using the fact that the conjugate of an exponent equals the exponent of the conjugate, we find:\n",
    "$$ \\int_{0}^{\\infty} e^{ivx} \\phi (-v)dv = \\int_{0}^{\\infty} \\overline{e^{-izx} \\phi (z)}dz = \\overline{\\int_{0}^{\\infty} {e^{-izx} \\phi (z)}dz } $$"
   ]
  },
  {
   "cell_type": "markdown",
   "metadata": {},
   "source": [
    "using the property of complex numbers $ z +\\overline{z}=2 \\mathcal{R}(z)$ therefore the density can be expressed as:\n",
    "$$ f(x) = \\frac{1}{\\pi} \\mathcal{R}\\bigg(\\int_0^{\\infty} e^{-izx}\\phi(z) dz \\bigg) $$"
   ]
  },
  {
   "cell_type": "markdown",
   "metadata": {},
   "source": [
    "$$f(x) = \\frac{1}{2\\pi}\\bigg( \\overline{\\int_{0}^{\\infty} {e^{-izx} \\phi (z)}dz } +  \\int_{0}^{ \\infty} e^{-izx} \\phi (z)dz\\bigg) $$ \n",
    "$$ f(x) = \\frac{1}{\\pi} \\mathcal{R}\\bigg(\\int_0^{\\infty} e^{-izx}\\phi(z) dz \\bigg) $$\n"
   ]
  },
  {
   "cell_type": "markdown",
   "metadata": {},
   "source": [
    "Given that we discretize the domain for \\( x \\) and \\( z \\) into \\( N \\) grid points, we consider the vectors $f, \\phi \\in \\mathbb{C}^N $:\n",
    "$$\n",
    "f = \\begin{pmatrix}\n",
    "f_1 \\\\\n",
    "f_2 \\\\\n",
    "\\vdots \\\\\n",
    "f_{N-1} \\\\\n",
    "f_N \n",
    "\\end{pmatrix}\n",
    "$$\n",
    "\n",
    "$$\n",
    "\\phi = \\begin{pmatrix}\n",
    "\\phi_1 \\\\\n",
    "\\phi_2 \\\\\n",
    "\\vdots \\\\\n",
    "\\phi_{N-1} \\\\\n",
    "\\phi_N \n",
    "\\end{pmatrix}\n",
    "$$"
   ]
  },
  {
   "cell_type": "markdown",
   "metadata": {},
   "source": [
    "Let us consider the following representation:\n",
    "$$ \\int_0^{\\infty} e^{-izx}\\phi(z)dz \\coloneqq \\ \\int_0^{\\infty} \\gamma(z)dz $$\n",
    "\n",
    "We define  a trapezoidal integration over domain $[0, z_{max}]$ for which we have:\n",
    "$$ \\int_0^{z_{max}} \\gamma(z)d(z) \\approx \\frac{\\Delta_z}{2}\\bigg[\\gamma(z_1) + 2 \\sum_{2}^{N-1} \\gamma(z_n) + \\gamma{z_N}\\bigg]$$\n"
   ]
  },
  {
   "cell_type": "markdown",
   "metadata": {},
   "source": [
    "$$\n",
    "\\int_0^{z_{max}} \\gamma(z) \\, d(z) \\approx \\Delta_z \\left[ \\sum_{n=2}^{N-1} \\gamma(z_n) + \\frac{1}{2} \\gamma(z_1) + \\frac{1}{2} \\gamma(z_N) \\right]\n",
    "$$\n"
   ]
  },
  {
   "cell_type": "markdown",
   "metadata": {},
   "source": [
    "- $z_{max} = N\\Delta_z$\n",
    "- $z_n = (z-1)\\Delta_z$\n",
    "- $x_k= x_{min} + \\Delta_x(k-1)$"
   ]
  },
  {
   "cell_type": "markdown",
   "metadata": {},
   "source": [
    "$x_min=b$ is a tuning parameter which can be freely chosen, typically it should be associated with a low quantile of distribution such that $P[X<b]< \\epsilon $"
   ]
  },
  {
   "cell_type": "markdown",
   "metadata": {},
   "source": [
    "we have to specify $\\Delta_z$ interval, the number of points and the $x_{min}$"
   ]
  },
  {
   "cell_type": "markdown",
   "metadata": {},
   "source": [
    "$$\n",
    "\\int_0^{z_{max}} \\gamma(z) \\, d(z) \\approx \\Delta_z \\left[ \\sum_{n=1}^{N} e^{-i[(n-1)\\Delta_z][+x_{min} + \\Delta_x(k-1)]} \\phi(z_n)  - \\frac{1}{2}\\bigg[e^{-ixz_1} \\phi(z_1) + e^{ixz_N}\\phi(z_N)\\bigg]\\right]\n",
    "$$\n",
    "$$\n",
    "\\int_0^{z_{max}} \\gamma(z) \\, d(z) \\approx \\Delta_z \\left[ \\sum_{n=1}^{N} e^{-i\\Delta_x\\Delta_z(n-1)(k-1)}e^{-i(n-1)x_{min}\\Delta_z} \\phi(z_n)  - \\frac{1}{2}\\bigg[e^{-ixz_1} \\phi(z_1) + e^{-ixz_N}\\phi(z_N)\\bigg]\\right]\n",
    "$$\n"
   ]
  },
  {
   "cell_type": "markdown",
   "metadata": {},
   "source": [
    "if we set:\n",
    "$$ \\Delta_x\\Delta_z = \\frac{2\\pi}{N}$$\n",
    "and since $z= (n-1)\\Delta_z$\n",
    "we obtain:\n",
    "$$\n",
    "\\int_0^{z_{max}} \\gamma(z) \\, d(z) \\approx \\Delta_z \\left[ \\sum_{n=1}^{N} e^{-i\\frac{2\\pi}{N}(n-1)(k-1)}e^{-ix_{min}z} \\phi(z_n)  - \\frac{1}{2}\\bigg[e^{-ixz_1} \\phi(z_1) + e^{-ixz_N}\\phi(z_N)\\bigg]\\right]\n",
    "$$"
   ]
  },
  {
   "cell_type": "markdown",
   "metadata": {},
   "source": [
    "so finally we obtain:\n",
    "$$ f(x) = \\frac{1}{\\pi} \\mathcal{R} \\bigg(\\int_0^{\\infty} e^{-izx}\\phi(z)dz\\bigg) = \\frac{\\Delta_z}{\\pi} \\mathcal{R}\\left( \\left[ \\sum_{n=1}^{N} e^{-i\\frac{2\\pi}{N}(n-1)(k-1)}e^{-ix_{min}z} \\phi(z_n)  - \\frac{1}{2}(\\gamma_1 + \\gamma_2)\\right] \\right)$$"
   ]
  },
  {
   "cell_type": "markdown",
   "metadata": {},
   "source": [
    "where $\\gamma_1=e^{-ixz_1} \\phi(z_1)$ and $\\gamma_2 = e^{-ixz_N}\\phi(z_N)$"
   ]
  },
  {
   "cell_type": "markdown",
   "metadata": {},
   "source": [
    "In the following representation we have a considered a fixed grid for x_k, howeveris not ensured that x in $f(x)$ is a point in the grid. For that reason, typically an interpolation between grid of points of $x_k$ is considered."
   ]
  },
  {
   "cell_type": "markdown",
   "metadata": {},
   "source": [
    "It is necessary to perform a matrix multiplication which requires around $N^2$ (complex) mulitplications and $N^2$ additions, the number of arithmetic operations is of order $N^2$ $\\mathcal{O}(N^2)$\n",
    "- It is possible to have Discretized fourier transform (DFT) evaluated in $\\mathcal{O}(N log_2 N)$ operations.\n",
    "- The algorithm was called FFT, available in many computer languages"
   ]
  },
  {
   "cell_type": "markdown",
   "metadata": {},
   "source": [
    "Again we discretize the domain for x, and z into N grid points and we consider the vectors $f,\\phi \\in \\mathbb{C}^N$\n",
    "$$\n",
    "f = \\begin{pmatrix}\n",
    "f_1 \\\\\n",
    "f_2 \\\\\n",
    "\\vdots \\\\\n",
    "f_{N-1} \\\\\n",
    "f_N \n",
    "\\end{pmatrix}\n",
    "$$\n",
    "\n",
    "$$\n",
    "\\phi = \\begin{pmatrix}\n",
    "\\phi_1 \\\\\n",
    "\\phi_2 \\\\\n",
    "\\vdots \\\\\n",
    "\\phi_{N-1} \\\\\n",
    "\\phi_N \n",
    "\\end{pmatrix}\n",
    "$$"
   ]
  },
  {
   "cell_type": "markdown",
   "metadata": {},
   "source": [
    "the discrete Fourier transform $f$ of $phi$ is given by the matrix multiplication:\n",
    "$$ f = M\\phi$$\n",
    "or equivalently:\n",
    "$$f_k= \\sum_{n=1}^{N} \\phi_n e^{-i\\frac{2\\pi}{N}(n-1)(k-1)}=\\sum_{n=1}^{N} \\phi_n \\bar{w}_N^{(n-1)(k-1)} $$"
   ]
  },
  {
   "cell_type": "markdown",
   "metadata": {},
   "source": [
    "the discretized Fourier Transform matrix $M \\in \\mathbb{C}^{N \\times N}$ is then defined as:\n",
    "$$\n",
    "M= \\begin{pmatrix}\n",
    "1 & 1 & 1 & ...& 1 \\\\\n",
    "1 & \\bar{w}_N^1 & \\bar{w}_N^2 & ... &  \\bar{w}_N^{N-1}  \\\\\n",
    "1 & \\bar{w}_N^2 & \\bar{w}_N^4 & ... &  \\bar{w}_N^{2(N-1)} \\\\\n",
    "\\vdots & \\vdots & \\vdots & \\vdots & \\vdots \\\\\n",
    "1 & \\bar{w}_N^{N-1} & \\bar{w}_N^{N(N-1)} & ... &  \\bar{w}_N^{(N-1)(N-1)} \\\\\n",
    "\\end{pmatrix}\n",
    "$$\n"
   ]
  },
  {
   "cell_type": "markdown",
   "metadata": {},
   "source": [
    "$$M_{n,k}= \\bar{w}_N^{(n-1)(k-1)}"
   ]
  },
  {
   "cell_type": "markdown",
   "metadata": {},
   "source": [
    "with $N=2^L$(even). <br>\n",
    "Define $x_n = \\phi_{2_{n-1}}$ and $y_n$ $y_n = \\phi_2{n}$ for $n=1, ..., N/2$ $(x_n , y_n)$ are the odd and even sequences of $\\phi_n$"
   ]
  },
  {
   "cell_type": "markdown",
   "metadata": {
    "vscode": {
     "languageId": "plaintext"
    }
   },
   "source": [
    "$$f_k= \\sum_{n=1}^{N/2}x_n \\bar{w}_N^{(2n-2)(k-1)} + y_n \\bar{w}_N^{(2n-1)(k-1)}$$\n",
    "for $k=1, ..., N$"
   ]
  },
  {
   "cell_type": "markdown",
   "metadata": {},
   "source": [
    " $$"
   ]
  },
  {
   "cell_type": "markdown",
   "metadata": {},
   "source": [
    "the basis behind the FFT is the simple but crucial equality:\n",
    "$$\\bar{w}_N^{(2_n-2)(k-1)} = \\bar{w}_{N/2}^{(n-1)(k-1)}$$"
   ]
  },
  {
   "cell_type": "markdown",
   "metadata": {},
   "source": [
    "$$f_k= \\sum_{n=1}^{N/2}x_n \\bar{w}_{N/2}^{(n-1)(k-1)} + \\bar{w}_{N}^{(k-1)} \\sum_{n=1}^{N/2} y_n \\bar{w}^{(2n-1)(k-1)}= Z_k + \\bar{w}_{N}^{(k-1)} Y_k $$\n",
    "which is apart from a facotr $ \\bar{w}_{N}^{(k-1)}$ the sum of two DFTs, each of length $N/2$. <br> \n",
    "Hence we can write:\n",
    "$$ f_k = Z_k + \\bar{w}_N^{k-1}Y_k$$\n",
    "$$ f_{k+ N/2} = Z_{k + N/2} +\\bar{w}_{N}^{(k-1) + N/2} Y_{k + N/2}$$\n",
    "for $k=1, ..., N/2$"
   ]
  },
  {
   "cell_type": "markdown",
   "metadata": {},
   "source": [
    "Taking the characteristic function for a normal random varialble $\\mathcal{N}(\\mu,\\sigma^2)$:\n",
    "$$\\phi_X(\\mu) = e^{i\\mu z - \\frac{1}{2}\\sigma^2z^2} $$\n",
    "can be interesting comparing the original pdf with the FFT approximation."
   ]
  },
  {
   "cell_type": "code",
   "execution_count": 10,
   "metadata": {},
   "outputs": [
    {
     "data": {
      "image/png": "[encoded data removed]",
      "text/plain": [
       "<Figure size 640x480 with 1 Axes>"
      ]
     },
     "metadata": {},
     "output_type": "display_data"
    }
   ],
   "source": [
    "def RecoverDensity(cf, x, N=8192):\n",
    "    i = complex(0.0, 1.0)  # assigning i=sqrt(-1)\n",
    "\n",
    "    # specification of the grid for u\n",
    "    u_max = 20.0\n",
    "    du = u_max / N\n",
    "    u = np.linspace(0, N-1, N) * du\n",
    "\n",
    "    # grid for x\n",
    "    b = np.min(x)\n",
    "    dx = 2.0 * np.pi / (N * du)\n",
    "    x_i = b + np.linspace(0, N-1, N) * dx\n",
    "\n",
    "    phi = np.exp(-i * b * u) * cf(u)\n",
    "\n",
    "    gamma_1 = np.exp(-i * x_i * u[0]) * cf(u[0])\n",
    "    gamma_2 = np.exp(-i * x_i * u[-1]) * cf(u[-1])\n",
    "\n",
    "    phi_boundary = 0.5 * (gamma_1 + gamma_2)\n",
    "\n",
    "    f_xi = du / np.pi * np.real(fft.fft(phi) - phi_boundary)\n",
    "\n",
    "    f_xiInterp = interpolate.interp1d(x_i, f_xi, kind='cubic')\n",
    "\n",
    "    return f_xiInterp(x)\n",
    "\n",
    "def mainCalculation():\n",
    "    i = complex(0.0, 1.0)  # assigning i=sqrt(-1)\n",
    "\n",
    "    # setting for normal distribution\n",
    "    mu = 0.0\n",
    "    sigma = 1.0\n",
    "\n",
    "    # Define characteristic function for the normal distribution\n",
    "    cF = lambda u: np.exp(i * mu * u - 0.5 * sigma**2.0 * u**2.0)\n",
    "\n",
    "    # define domain for density\n",
    "    x = np.linspace(-8.0, 8.0, 100)\n",
    "    f_XExact = st.norm.pdf(x, mu, sigma)\n",
    "\n",
    "    # recovered density\n",
    "    f_XR = RecoverDensity(cF, x)\n",
    "\n",
    "    plt.figure(1)\n",
    "    plt.grid()\n",
    "    plt.xlabel(\"x\")\n",
    "    plt.ylabel(\"$f_X(x)$\")\n",
    "    plt.plot(x, f_XExact, '-r', label=\"Exact PDF\")\n",
    "    plt.plot(x, f_XR, '--b', label=\"Approximate PDF\")\n",
    "    plt.legend()\n",
    "    plt.show()\n",
    "\n",
    "mainCalculation()"
   ]
  },
  {
   "cell_type": "markdown",
   "metadata": {},
   "source": [
    "## Fourier-Cosine Expansion (COS method)\n",
    "- Exponential convergence,\n",
    "- Greeks are obtained at no additional cost <br>\n",
    "The basic idea is to replace the density by its Fourier-cosine series expansion. <br>\n",
    "The density and its characteristic function, $f_X(y) \\text{and} \\phi_X(z)$ form a Fourier pair,\n",
    "- $\\phi_X(z)= \\int_{\\mathbb{R}}e^{iyz}f_X(y) dy$ <br>\n",
    "- $f_X(y)= \\frac{1}{2\\pi} \\int_{\\mathbb{R}}e^{-iyz} \\phi_X(z) dz$"
   ]
  },
  {
   "cell_type": "markdown",
   "metadata": {},
   "source": [
    " Fourier cosine series expansions give an optimal approximation of functions with a finite support.\n",
    " Definition of the Fourier expansion of a function $g(x)$ on $[-1,1]$:\n",
    " $$ g(\\theta) = \\sum_{k=0}^{'\\infty} \\bar{A}_k cos(k\\pi\\theta) + \\sum_{k=1}^{\\infty} \\bar{B}_k sin(k\\pi\\theta) $$\n",
    " where the $'$ at the first sum, indicates that the first term in the sum is weighted by one half, and the coefficients are given by:\n",
    " - $\\bar{A}_k = \\int_{-1}^{1}g(\\theta) cos(k\\pi\\theta)d\\theta$,\n",
    " - $\\bar{B}_k = \\int_{-1}^{1}g(\\theta) sin(k\\pi\\theta)d\\theta$"
   ]
  },
  {
   "cell_type": "markdown",
   "metadata": {},
   "source": [
    "By setting $\\bar{B}_k=0$ we obtain the classical Fourier Cosine expansion, by which we can represent even functions around $\\theta=0$ exactly.\n",
    "We can extend any function $g: [0,\\pi] \\Rightarrow \\mathbb{R}$ to become an even function on $[-\\pi,\\pi] as follows,\n",
    "$$ \\bar{g}(\\theta)=\\begin{cases} g(\\theta), \\theta > 0 \\\\\n",
    "                            g(-\\theta), \\theta < 0 \\end{cases}$$"
   ]
  },
  {
   "cell_type": "markdown",
   "metadata": {},
   "source": [
    "Even functions can be expressed as Fourier Cosine series."
   ]
  },
  {
   "cell_type": "markdown",
   "metadata": {},
   "source": [
    "For a function \\bar{\\theta}:\n",
    "$$ \\bar{g}(\\theta) = \\sum_{k=0}^{'\\infty} \\bar{A}_k cos(k\\theta) $$"
   ]
  },
  {
   "cell_type": "markdown",
   "metadata": {},
   "source": [
    "with: \n",
    "- $\\bar{A}_k = \\frac{1}{\\pi} \\int_{-\\pi}^{\\pi}\\bar{g}(\\theta) cos(\\pi\\theta)d\\theta$ = $\\bar{A}_k = \\frac{2}{\\pi} \\int_{0}^{\\pi}g(\\theta) cos(\\pi\\theta)d\\theta$\n",
    "The Fourier Cosine series expansion, as used in the COS method, is based on a classical definition of the cosine series in the interval $[-pi,\\pi]$ with $\\pi$ being a merely scaling factor, and the function maximum is attaiend at the domain boundary "
   ]
  },
  {
   "cell_type": "markdown",
   "metadata": {},
   "source": [
    "Because $g(\\theta) = \\bar{g}(\\theta)$ on $[0,\\pi]$ the Fourier Cosine expansion of the function $g(\\theta)$ on $[0,\\pi]$ is also given by the previous equation"
   ]
  },
  {
   "cell_type": "markdown",
   "metadata": {},
   "source": [
    "for functions supported on any other finite interval, say $[a,b] \\in \\mathbb{R}$ the Fourier cosine series expansion can be obtained via a change of variables:\n",
    "$$ \\theta \\coloneqq \\frac{y-a}{b-a} \\pi, y = \\frac{b-a}{\\pi} \\theta + a$$"
   ]
  },
  {
   "cell_type": "markdown",
   "metadata": {},
   "source": [
    "It then reads:\n",
    "$$ g(y) = \\sum_{k=0}^{\\infty}  \\bar{A}_k \\cdot cos \\bigg(k\\pi \\frac{y-a}{b-a}\\bigg) $$"
   ]
  },
  {
   "cell_type": "markdown",
   "metadata": {},
   "source": [
    "with: $$  $\\bar{A}_k = \\frac{2}{b-a} \\int_{a}^{b} g(y) cos(k\\pi \\frac{y-a}{b-a})dy$"
   ]
  },
  {
   "cell_type": "markdown",
   "metadata": {},
   "source": [
    "Suppose $[a,b] \\in \\mathbb{R}$ is chosen such that the truncated integral approximates the infinite counterpart very well, i.e,\n",
    "$$ \\hat{\\phi}_X(z) \\coloneqq \\int_a^b e^{izy}f_X(y)dy \\approx\\int_{\\mathbb{R}} e^{izy}f_X(y)dy"
   ]
  },
  {
   "cell_type": "markdown",
   "metadata": {},
   "source": [
    "By recalling the Euler Formula:\n",
    "$$ e^{iz} = cos(z) + isin(z)$$\n",
    "which implies $\\mathcal{R}(e^{iz}) = cos(z)$, with $\\mathbb{R}(.)$ the real part"
   ]
  },
  {
   "cell_type": "markdown",
   "metadata": {},
   "source": [
    "For random variable $X$ and $a \\in \\mathbb{R}$:\n",
    "$$ \\phi_X(z)e^{ia} = \\mathbb{E}[e^{izX + ia}] = \\int_{-\\infty}^{\\infty}e^{i(zy +a)}f_X(y)dy$$"
   ]
  },
  {
   "cell_type": "markdown",
   "metadata": {},
   "source": [
    "By taking the real parts in (14),\n",
    "$$ \\mathcal{R}(\\phi_X(z)e^{ia}) = \\mathcal{R}\\bigg(  \\int_{-\\infty}^{\\infty}e^{i(zy +a)}f_X(y)dy\\bigg) =   \\int_{-\\infty}^{\\infty}cos(zy +a)f_X(y)dy"
   ]
  },
  {
   "cell_type": "markdown",
   "metadata": {},
   "source": [
    "Substitute $z= \\frac{k\\pi}{b-a} \\cdot e^{-i \\frac{ka\\pi}{b-a}}$ and multiply $\\hat{\\phi}(x)$ by $ e^{-i\\frac{ka\\pi}{b-a}}$: \n",
    "$$  \\hat{\\phi}_X(\\frac{k\\pi}{b-a}) \\cdot e^{-i \\frac{ka\\pi}{b-a}} = \\int_a^b exp\\bigg( iy \\frac{k\\pi}{b-a} - i \\frac{ka\\pi}{b-a}\\bigg) f_X(y)dy$$"
   ]
  },
  {
   "cell_type": "code",
   "execution_count": null,
   "metadata": {},
   "outputs": [],
   "source": []
  },
  {
   "cell_type": "markdown",
   "metadata": {},
   "source": [
    "Taking the real part at both sides:\n",
    "$$  \\mathcal{R}\\bigg(\\hat{\\phi}_X(\\frac{k\\pi}{b-a}) \\cdot e^{-i \\frac{ka\\pi}{b-a}}\\bigg) = \\int_a^b f_X(y) cos\\bigg(k\\pi\\frac{y-a}{b-a}\\bigg) dy$$"
   ]
  },
  {
   "cell_type": "code",
   "execution_count": null,
   "metadata": {},
   "outputs": [],
   "source": []
  },
  {
   "cell_type": "code",
   "execution_count": null,
   "metadata": {},
   "outputs": [],
   "source": []
  },
  {
   "cell_type": "markdown",
   "metadata": {},
   "source": []
  }
 ],
 "metadata": {
  "kernelspec": {
   "display_name": "base",
   "language": "python",
   "name": "python3"
  },
  "language_info": {
   "codemirror_mode": {
    "name": "ipython",
    "version": 3
   },
   "file_extension": ".py",
   "mimetype": "text/x-python",
   "name": "python",
   "nbconvert_exporter": "python",
   "pygments_lexer": "ipython3",
   "version": "3.11.5"
  }
 },
 "nbformat": 4,
 "nbformat_minor": 2
}
